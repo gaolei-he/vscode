{
 "cells": [
  {
   "cell_type": "code",
   "execution_count": 10,
   "metadata": {},
   "outputs": [],
   "source": [
    "import asyncio\n",
    "import pyppeteer\n",
    "import requests\n",
    "import time"
   ]
  },
  {
   "cell_type": "code",
   "execution_count": 11,
   "metadata": {},
   "outputs": [],
   "source": [
    "async def antiAntiCrawler(page):\n",
    "    await page.setUserAgent('Mozilla/5.0 (Windows NT 6.1; \\\n",
    "        Win64; x64) AppleWebKit/537.36 (KHTML, like Gecko) \\\n",
    "            Chrome/73.0.3683.86 Safari/537.36')\n",
    "    await page.evaluateOnNewDocument('() =>{ Object.defineProperties(navigator, \\\n",
    "        { webdriver:{ get: () => false } }) }')"
   ]
  },
  {
   "cell_type": "code",
   "execution_count": 12,
   "metadata": {},
   "outputs": [
    {
     "data": {
      "text/plain": [
       "<pyppeteer.network_manager.Response at 0x7f25373058a0>"
      ]
     },
     "execution_count": 12,
     "metadata": {},
     "output_type": "execute_result"
    }
   ],
   "source": [
    "loginUrl = 'https://xk.henu.edu.cn/cas/login.action'\n",
    "width, height = 1400, 800\n",
    "browser = await pyppeteer.launch(headless=False,\n",
    "                                userdataDir = '/tmp',\n",
    "                                executablePath = '/usr/bin/google-chrome',\n",
    "                                    args=[f'--window-size={width},{height}'])\n",
    "page = await browser.newPage()\n",
    "await antiAntiCrawler(page)\n",
    "await page.setViewport({'width': width, 'height': height})\n",
    "await page.goto(loginUrl)"
   ]
  },
  {
   "cell_type": "code",
   "execution_count": 13,
   "metadata": {},
   "outputs": [],
   "source": [
    "element = await page.querySelector(\"#normal_use_menu > ul > li:nth-child(1) > a\")\n",
    "await element.click()"
   ]
  },
  {
   "cell_type": "code",
   "execution_count": 30,
   "metadata": {},
   "outputs": [],
   "source": [
    "element = await page.querySelector(\"#normal_use_menu > ul > li:nth-child(4) > a\")"
   ]
  },
  {
   "cell_type": "code",
   "execution_count": 33,
   "metadata": {},
   "outputs": [
    {
     "data": {
      "text/plain": [
       "<coroutine object ElementHandle.click at 0x7f25373b20a0>"
      ]
     },
     "execution_count": 33,
     "metadata": {},
     "output_type": "execute_result"
    }
   ],
   "source": [
    "element.click()"
   ]
  }
 ],
 "metadata": {
  "kernelspec": {
   "display_name": "Python 3.10.6 64-bit",
   "language": "python",
   "name": "python3"
  },
  "language_info": {
   "codemirror_mode": {
    "name": "ipython",
    "version": 3
   },
   "file_extension": ".py",
   "mimetype": "text/x-python",
   "name": "python",
   "nbconvert_exporter": "python",
   "pygments_lexer": "ipython3",
   "version": "3.10.6"
  },
  "orig_nbformat": 4,
  "vscode": {
   "interpreter": {
    "hash": "916dbcbb3f70747c44a77c7bcd40155683ae19c65e1c03b4aa3499c5328201f1"
   }
  }
 },
 "nbformat": 4,
 "nbformat_minor": 2
}
