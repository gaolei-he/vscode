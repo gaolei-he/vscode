{
 "cells": [
  {
   "cell_type": "code",
   "execution_count": 1,
   "metadata": {},
   "outputs": [],
   "source": [
    "import asyncio\n",
    "import pyppeteer\n",
    "import time"
   ]
  },
  {
   "cell_type": "code",
   "execution_count": 2,
   "metadata": {},
   "outputs": [],
   "source": [
    "tmp_dir = '/tmp'  # 临时文件夹\n",
    "chrome_path = '/usr/bin/google-chrome'  # chrome浏览器路径"
   ]
  },
  {
   "cell_type": "code",
   "execution_count": 3,
   "metadata": {},
   "outputs": [],
   "source": [
    "async def f():\n",
    "    width, height = 1400, 800 # 窗口大小\n",
    "    browser = await pyppeteer.launch(headless=False,\n",
    "                                    userdataDir = tmp_dir,\n",
    "                                    executablePath = chrome_path,\n",
    "                                        args=[f'--window-size={width},{height}'])\n",
    "    page = await browser.newPage() # 新建页面\n",
    "    await page.setViewport({'width': width, 'height': height}) # 设置页面大小\n",
    "    for i in range(1, 2):\n",
    "        url = f\"https://www.acwing.com/problem/{i}/?show_algorithm_tags=0\"\n",
    "        await page.goto(url)\n",
    "        string = await page.content()\n",
    "        print(string)"
   ]
  },
  {
   "cell_type": "code",
   "execution_count": null,
   "metadata": {},
   "outputs": [],
   "source": []
  }
 ],
 "metadata": {
  "kernelspec": {
   "display_name": "Python 3.10.6 64-bit",
   "language": "python",
   "name": "python3"
  },
  "language_info": {
   "codemirror_mode": {
    "name": "ipython",
    "version": 3
   },
   "file_extension": ".py",
   "mimetype": "text/x-python",
   "name": "python",
   "nbconvert_exporter": "python",
   "pygments_lexer": "ipython3",
   "version": "3.10.12"
  },
  "orig_nbformat": 4,
  "vscode": {
   "interpreter": {
    "hash": "916dbcbb3f70747c44a77c7bcd40155683ae19c65e1c03b4aa3499c5328201f1"
   }
  }
 },
 "nbformat": 4,
 "nbformat_minor": 2
}
