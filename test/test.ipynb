{
 "cells": [
  {
   "cell_type": "code",
   "execution_count": 1,
   "metadata": {},
   "outputs": [],
   "source": [
    "from sage.all import *"
   ]
  },
  {
   "cell_type": "code",
   "execution_count": 19,
   "metadata": {},
   "outputs": [
    {
     "name": "stdout",
     "output_type": "stream",
     "text": [
      "3.141592653589793238462643383279502884197169399375105820974944592307816406286208998628034825342117068\n"
     ]
    }
   ],
   "source": [
    "a = Integer(10)\n",
    "print(pi.n(digits=100))"
   ]
  },
  {
   "cell_type": "code",
   "execution_count": 20,
   "metadata": {},
   "outputs": [
    {
     "data": {
      "text/plain": [
       "22026.4657948067"
      ]
     },
     "execution_count": 20,
     "metadata": {},
     "output_type": "execute_result"
    }
   ],
   "source": [
    "n(exp(a))"
   ]
  },
  {
   "cell_type": "code",
   "execution_count": 48,
   "metadata": {},
   "outputs": [
    {
     "data": {
      "text/plain": [
       "2 * 829 * 106023099219643 * 568872550647007"
      ]
     },
     "execution_count": 48,
     "metadata": {},
     "output_type": "execute_result"
    }
   ],
   "source": [
    "factor(99999999999999999999999999994658)"
   ]
  },
  {
   "cell_type": "code",
   "execution_count": 10,
   "metadata": {},
   "outputs": [
    {
     "name": "stdout",
     "output_type": "stream",
     "text": [
      "     0      0      0\n",
      "     1      1      1\n",
      "     2      4      8\n",
      "     3      9     27\n",
      "     4     16     64\n",
      "[1, 'hello', 2/3, sin(27), 42]\n"
     ]
    }
   ],
   "source": [
    "for i in range(Integer(5)):\n",
    "    print(\"%6s %6s %6s\" % (i, i**2, i**3))\n",
    "\n",
    "arr = [Integer(1), 'hello', Integer(2)/Integer(3), sin(3**Integer(3)), 42]\n",
    "print(arr)"
   ]
  },
  {
   "cell_type": "code",
   "execution_count": 11,
   "metadata": {},
   "outputs": [
    {
     "name": "stdout",
     "output_type": "stream",
     "text": [
      "Even positive numbers up to n.\n"
     ]
    }
   ],
   "source": [
    "class Evens(list):\n",
    "    def __init__(self, n):\n",
    "        self.n = n\n",
    "        list.__init__(self, range(Integer(2), n + Integer(1), Integer(2)))\n",
    "    def __repr__(self):\n",
    "        return \"Even positive numbers up to n.\"\n",
    "e = Evens(Integer(10))\n",
    "print(e)"
   ]
  },
  {
   "cell_type": "code",
   "execution_count": 12,
   "metadata": {},
   "outputs": [
    {
     "name": "stdout",
     "output_type": "stream",
     "text": [
      "[2, 4, 6, 8, 10]\n"
     ]
    }
   ],
   "source": [
    "print(list(e))\n",
    "diff"
   ]
  },
  {
   "cell_type": "code",
   "execution_count": 15,
   "metadata": {},
   "outputs": [
    {
     "name": "stdout",
     "output_type": "stream",
     "text": [
      "[\n",
      "x == -2,\n",
      "x == -1\n",
      "]\n"
     ]
    }
   ],
   "source": [
    "x = var('x')\n",
    "print(solve(x ** Integer(2) + Integer(3)*x + Integer(2), x))"
   ]
  },
  {
   "cell_type": "code",
   "execution_count": 16,
   "metadata": {},
   "outputs": [
    {
     "name": "stdout",
     "output_type": "stream",
     "text": [
      "[\n",
      "x == -1/2*b - 1/2*sqrt(b^2 - 4*c),\n",
      "x == -1/2*b + 1/2*sqrt(b^2 - 4*c)\n",
      "]\n"
     ]
    }
   ],
   "source": [
    "x, b, c = var('x b c')\n",
    "print(solve([x ** 2 + b * x + c == 0], x))"
   ]
  },
  {
   "cell_type": "code",
   "execution_count": 2,
   "metadata": {},
   "outputs": [
    {
     "name": "stdout",
     "output_type": "stream",
     "text": [
      "0.7853981633974484\n"
     ]
    }
   ],
   "source": [
    "theta = var('theta')\n",
    "print(find_root(cos(theta)==sin(theta), Integer(0), pi / Integer(2)))"
   ]
  },
  {
   "cell_type": "code",
   "execution_count": 3,
   "metadata": {},
   "outputs": [
    {
     "name": "stdout",
     "output_type": "stream",
     "text": [
      "2*x\n",
      "34*y\n"
     ]
    }
   ],
   "source": [
    "x, y = var('x, y')\n",
    "f = x**Integer(2) + Integer(17) * y ** Integer(2)\n",
    "print(f.diff(x))\n",
    "print(f.diff(y))"
   ]
  },
  {
   "cell_type": "code",
   "execution_count": 6,
   "metadata": {},
   "outputs": [
    {
     "name": "stdout",
     "output_type": "stream",
     "text": [
      "-1/2*cos(x^2)\n",
      "1/2*log(2)\n"
     ]
    }
   ],
   "source": [
    "print(integral(x*sin(x**2), x))\n",
    "print(integral(x/(x**2+1), x, 0, 1))"
   ]
  },
  {
   "cell_type": "code",
   "execution_count": 7,
   "metadata": {},
   "outputs": [
    {
     "name": "stdout",
     "output_type": "stream",
     "text": [
      "(_C + e^t)*e^(-t)\n"
     ]
    }
   ],
   "source": [
    "t = var('t')\n",
    "x = function('x')(t)\n",
    "DE = diff(x, t) + x - Integer(1)\n",
    "print(desolve(DE, [x, t]))"
   ]
  },
  {
   "cell_type": "code",
   "execution_count": 15,
   "metadata": {},
   "outputs": [],
   "source": [
    "c = circle((0,0),1, rgbcolor=(1,1,0))"
   ]
  },
  {
   "cell_type": "code",
   "execution_count": 16,
   "metadata": {},
   "outputs": [],
   "source": [
    "c.save('file.png')"
   ]
  }
 ],
 "metadata": {
  "kernelspec": {
   "display_name": "Python 3",
   "language": "python",
   "name": "python3"
  },
  "language_info": {
   "codemirror_mode": {
    "name": "ipython",
    "version": 3
   },
   "file_extension": ".py",
   "mimetype": "text/x-python",
   "name": "python",
   "nbconvert_exporter": "python",
   "pygments_lexer": "ipython3",
   "version": "3.10.12"
  },
  "orig_nbformat": 4
 },
 "nbformat": 4,
 "nbformat_minor": 2
}
